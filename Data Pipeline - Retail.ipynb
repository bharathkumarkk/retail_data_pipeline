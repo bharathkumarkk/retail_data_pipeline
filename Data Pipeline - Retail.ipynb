{
 "cells": [
  {
   "cell_type": "code",
   "execution_count": 16,
   "id": "73924ad8",
   "metadata": {},
   "outputs": [],
   "source": [
    "#!pip install pandas google-cloud-bigquery\n",
    "#!pip install pandas-gbq"
   ]
  },
  {
   "cell_type": "code",
   "execution_count": 8,
   "id": "2c1a6ea6",
   "metadata": {},
   "outputs": [],
   "source": [
    "#os.environ[\"GOOGLE_APPLICATION_CREDENTIALS\"] = r\"C:\\Users\\bhara\\OneDrive\\Desktop\\NJ\\Projects\\Kaggle\\Retail Data Analytics - Manjeet Singh\\pipeline-project-retail-de3108a95814.json\""
   ]
  },
  {
   "cell_type": "code",
   "execution_count": 10,
   "id": "7c062f2a",
   "metadata": {},
   "outputs": [],
   "source": [
    "import os\n",
    "import pandas as pd\n",
    "\n",
    "from google.auth import default\n",
    "from google.cloud import bigquery\n",
    "from google.auth.transport.requests import Request"
   ]
  },
  {
   "cell_type": "code",
   "execution_count": 9,
   "id": "48968c95",
   "metadata": {},
   "outputs": [],
   "source": [
    "#GCP Project ID\n",
    "project_id = 'pipeline-project-retail'\n",
    "\n",
    "#Authentication with Google Cloud\n",
    "credentials, project_id = default()\n",
    "\n",
    "#BigQuery client\n",
    "client = bigquery.Client(credentials=credentials, project=project_id)\n",
    "\n",
    "#Creat Dataset\n",
    "dataset_id = 'retail_101'\n",
    "dataset = bigquery.Dataset(f'{project_id}.{dataset_id}')\n",
    "dataset.location = 'asia-south1'\n",
    "\n",
    "#Send the request to create the dataset\n",
    "client.create_dataset(dataset, exists_ok=True)"
   ]
  },
  {
   "cell_type": "code",
   "execution_count": 13,
   "id": "b2c1cf0e",
   "metadata": {},
   "outputs": [],
   "source": [
    "#Local Raw Data location\n",
    "folder_path = r\"C:\\Users\\bhara\\OneDrive\\Desktop\\NJ\\Projects\\Kaggle\\Retail Data Analytics - Manjeet Singh\""
   ]
  },
  {
   "cell_type": "code",
   "execution_count": 17,
   "id": "b30878cb",
   "metadata": {},
   "outputs": [
    {
     "name": "stderr",
     "output_type": "stream",
     "text": [
      "100%|████████████████████████████████████████████████████████████████████████████████████████████| 1/1 [00:00<?, ?it/s]\n"
     ]
    },
    {
     "name": "stdout",
     "output_type": "stream",
     "text": [
      "Uploaded Features data set.csv to BigQuery table: pipeline-project-retail.retail_101.Features data set\n"
     ]
    },
    {
     "name": "stderr",
     "output_type": "stream",
     "text": [
      "100%|████████████████████████████████████████████████████████████████████████████████████████████| 1/1 [00:00<?, ?it/s]\n"
     ]
    },
    {
     "name": "stdout",
     "output_type": "stream",
     "text": [
      "Uploaded sales data-set.csv to BigQuery table: pipeline-project-retail.retail_101.sales data-set\n"
     ]
    },
    {
     "name": "stderr",
     "output_type": "stream",
     "text": [
      "100%|████████████████████████████████████████████████████████████████████████████████████████████| 1/1 [00:00<?, ?it/s]"
     ]
    },
    {
     "name": "stdout",
     "output_type": "stream",
     "text": [
      "Uploaded stores data-set.csv to BigQuery table: pipeline-project-retail.retail_101.stores data-set\n"
     ]
    },
    {
     "name": "stderr",
     "output_type": "stream",
     "text": [
      "\n"
     ]
    }
   ],
   "source": [
    "#Iterate through CSV files from the location\n",
    "for filename in os.listdir(folder_path):\n",
    "    if filename.endswith('.csv'):\n",
    "        \n",
    "        #CSV file into a DataFrames\n",
    "        df = pd.read_csv(os.path.join(folder_path, filename))\n",
    "\n",
    "        #Give table ID based on CSV filename\n",
    "        table_id = f'{project_id}.{dataset_id}.{filename.replace(\".csv\", \"\")}'\n",
    "\n",
    "        #Upload DataFrames to BigQuery\n",
    "        df.to_gbq(destination_table=table_id, project_id=project_id, if_exists='replace')\n",
    "\n",
    "        print(f'Uploaded {filename} to BigQuery table: {table_id}')"
   ]
  },
  {
   "cell_type": "code",
   "execution_count": null,
   "id": "165fb076",
   "metadata": {},
   "outputs": [],
   "source": [
    "Next"
   ]
  }
 ],
 "metadata": {
  "kernelspec": {
   "display_name": "Python 3 (ipykernel)",
   "language": "python",
   "name": "python3"
  },
  "language_info": {
   "codemirror_mode": {
    "name": "ipython",
    "version": 3
   },
   "file_extension": ".py",
   "mimetype": "text/x-python",
   "name": "python",
   "nbconvert_exporter": "python",
   "pygments_lexer": "ipython3",
   "version": "3.11.4"
  }
 },
 "nbformat": 4,
 "nbformat_minor": 5
}
